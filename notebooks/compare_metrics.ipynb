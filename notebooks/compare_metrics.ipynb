{
 "cells": [
  {
   "cell_type": "code",
   "execution_count": 1,
   "metadata": {},
   "outputs": [],
   "source": [
    "import jax.numpy as jnp\n",
    "import numpy as np\n",
    "import torch\n",
    "\n",
    "from skimage.metrics import structural_similarity as skimage_ssim\n",
    "from skimage.metrics import peak_signal_noise_ratio as skimage_psnr\n",
    "from dm_pix import ssim, psnr\n",
    "\n",
    "from dln.data import get_Low_light_training_set\n",
    "\n",
    "from dln.jax_tv import total_variation\n",
    "from dln.utils import TVLoss"
   ]
  },
  {
   "cell_type": "code",
   "execution_count": 2,
   "metadata": {},
   "outputs": [],
   "source": [
    "train_set = get_Low_light_training_set(\n",
    "    upscale_factor=1, patch_size=128, data_augmentation=True\n",
    ")"
   ]
  },
  {
   "cell_type": "code",
   "execution_count": 3,
   "metadata": {},
   "outputs": [
    {
     "name": "stderr",
     "output_type": "stream",
     "text": [
      "An NVIDIA GPU may be present on this machine, but a CUDA-enabled jaxlib is not installed. Falling back to cpu.\n"
     ]
    }
   ],
   "source": [
    "low_light, normal_light = train_set[0]\n",
    "jaxed_low_light = jnp.transpose(jnp.array(low_light), (1, 2, 0))\n",
    "jaxed_normal_light = jnp.transpose(jnp.array(normal_light), (1, 2, 0))"
   ]
  },
  {
   "cell_type": "code",
   "execution_count": 4,
   "metadata": {},
   "outputs": [
    {
     "name": "stdout",
     "output_type": "stream",
     "text": [
      "SSIM index (scikit-image): 0.0932764238579652\n"
     ]
    }
   ],
   "source": [
    "skimage_ssim_index, _ = skimage_ssim(\n",
    "    (np.array(jaxed_normal_light) * 255).astype(np.uint8),\n",
    "    (np.array(jaxed_low_light) * 255).astype(np.uint8),\n",
    "    full=True,\n",
    "    channel_axis=2,\n",
    ")\n",
    "print(\"SSIM index (scikit-image):\", skimage_ssim_index)"
   ]
  },
  {
   "cell_type": "code",
   "execution_count": 5,
   "metadata": {},
   "outputs": [
    {
     "name": "stdout",
     "output_type": "stream",
     "text": [
      "SSIM index (JAX): 0.09816425\n"
     ]
    }
   ],
   "source": [
    "jax_ssim_index = ssim(jaxed_normal_light, jaxed_low_light)\n",
    "print(\"SSIM index (JAX):\", jax_ssim_index)"
   ]
  },
  {
   "cell_type": "code",
   "execution_count": 6,
   "metadata": {},
   "outputs": [
    {
     "name": "stdout",
     "output_type": "stream",
     "text": [
      "PSNR index (scikit-image): 13.263555511491747\n"
     ]
    }
   ],
   "source": [
    "skimage_psnr_index = skimage_psnr(\n",
    "    (np.array(jaxed_normal_light) * 255).astype(np.uint8),\n",
    "    (np.array(jaxed_low_light) * 255).astype(np.uint8),\n",
    ")\n",
    "print(\"PSNR index (scikit-image):\", skimage_psnr_index)"
   ]
  },
  {
   "cell_type": "code",
   "execution_count": 7,
   "metadata": {},
   "outputs": [
    {
     "name": "stdout",
     "output_type": "stream",
     "text": [
      "PSNR index (JAX): 13.263566\n"
     ]
    }
   ],
   "source": [
    "jax_psnr_index = psnr(jaxed_normal_light, jaxed_low_light)\n",
    "print(\"PSNR index (JAX):\", jax_psnr_index)"
   ]
  },
  {
   "cell_type": "code",
   "execution_count": 8,
   "metadata": {},
   "outputs": [
    {
     "name": "stdout",
     "output_type": "stream",
     "text": [
      "Original TV Loss: tensor(0.0097)\n"
     ]
    }
   ],
   "source": [
    "torch_low_light = torch.tensor(np.array(jaxed_low_light)).permute(2, 0, 1).unsqueeze(0)\n",
    "torch_normal_light = (\n",
    "    torch.tensor(np.array(jaxed_normal_light)).permute(2, 0, 1).unsqueeze(0)\n",
    ")\n",
    "original_tv = TVLoss()\n",
    "print(\"Original TV Loss:\", original_tv(torch_normal_light))"
   ]
  },
  {
   "cell_type": "code",
   "execution_count": 9,
   "metadata": {},
   "outputs": [
    {
     "name": "stdout",
     "output_type": "stream",
     "text": [
      "JAX TV Loss: 0.009681859\n"
     ]
    }
   ],
   "source": [
    "batched_low_light = jnp.expand_dims(jnp.array(jaxed_low_light), axis=0)\n",
    "batched_normal_light = jnp.expand_dims(jnp.array(jaxed_normal_light), axis=0)\n",
    "print(\"JAX TV Loss:\", total_variation(batched_normal_light))"
   ]
  }
 ],
 "metadata": {
  "kernelspec": {
   "display_name": "jaxenv",
   "language": "python",
   "name": "python3"
  },
  "language_info": {
   "codemirror_mode": {
    "name": "ipython",
    "version": 3
   },
   "file_extension": ".py",
   "mimetype": "text/x-python",
   "name": "python",
   "nbconvert_exporter": "python",
   "pygments_lexer": "ipython3",
   "version": "3.10.12"
  }
 },
 "nbformat": 4,
 "nbformat_minor": 2
}
