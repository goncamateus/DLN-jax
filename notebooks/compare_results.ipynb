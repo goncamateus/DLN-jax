{
 "cells": [
  {
   "cell_type": "code",
   "execution_count": 1,
   "metadata": {},
   "outputs": [],
   "source": [
    "import os\n",
    "import numpy as np\n",
    "\n",
    "from PIL import Image\n",
    "from skimage.metrics import structural_similarity as skimage_ssim\n",
    "from skimage.metrics import peak_signal_noise_ratio as skimage_psnr\n"
   ]
  },
  {
   "cell_type": "code",
   "execution_count": 2,
   "metadata": {},
   "outputs": [],
   "source": [
    "def compare_results(real_image, torch_image, jax_image):\n",
    "    real_image = Image.open(real_image).convert(\"RGB\")\n",
    "    torch_image = Image.open(torch_image).convert(\"RGB\")\n",
    "    jax_image = Image.open(jax_image).convert(\"RGB\")\n",
    "\n",
    "    real_image = np.array(real_image).astype(np.uint8)\n",
    "    torch_image = np.array(torch_image).astype(np.uint8)\n",
    "    jax_image = np.array(jax_image).astype(np.uint8)\n",
    "\n",
    "    torch_ssim = skimage_ssim(real_image, torch_image, channel_axis=2)\n",
    "    jax_ssim = skimage_ssim(real_image, jax_image, channel_axis=2)\n",
    "\n",
    "    torch_psnr = skimage_psnr(real_image, torch_image)\n",
    "    jax_psnr = skimage_psnr(real_image, jax_image)\n",
    "\n",
    "    return (torch_ssim, jax_ssim), (torch_psnr, jax_psnr)"
   ]
  },
  {
   "cell_type": "code",
   "execution_count": 3,
   "metadata": {},
   "outputs": [],
   "source": [
    "dataset_path = \"../datasets/test/LOL/high/\"\n",
    "torch_pretrained = \"../output/torch/pretrained_results/\"\n",
    "jax_pretrained = \"../output/jax/pretrained_results/\"\n",
    "torch_finetuned = \"../output/torch/finetune_results/\"\n",
    "jax_finetuned = \"../output/jax/finetune_results/\""
   ]
  },
  {
   "cell_type": "code",
   "execution_count": 4,
   "metadata": {},
   "outputs": [],
   "source": [
    "torch_pretrained_images = os.listdir(torch_pretrained)\n",
    "jax_pretrained_images = os.listdir(jax_pretrained)\n",
    "torch_finetuned_images = os.listdir(torch_finetuned)\n",
    "jax_finetuned_images = os.listdir(jax_finetuned)"
   ]
  },
  {
   "cell_type": "code",
   "execution_count": 5,
   "metadata": {},
   "outputs": [
    {
     "name": "stdout",
     "output_type": "stream",
     "text": [
      "Pretrained model results\n",
      "SSIM: Torch: 0.6972939948490605, Jax: 0.677763565747528\n",
      "PSNR: Torch: 19.258117811144565, Jax: 18.333172860999262\n"
     ]
    }
   ],
   "source": [
    "print(\"Pretrained model results\")\n",
    "torch_ssim = 0\n",
    "jax_ssim = 0\n",
    "torch_psnr = 0\n",
    "jax_psnr = 0\n",
    "for image in torch_pretrained_images:\n",
    "    torch_image = os.path.join(torch_pretrained, image)\n",
    "    jax_image = os.path.join(jax_pretrained, image)\n",
    "    real_image = os.path.join(dataset_path, image)\n",
    "    ssim, psnr = compare_results(real_image, torch_image, jax_image)\n",
    "    torch_ssim += ssim[0]\n",
    "    jax_ssim += ssim[1]\n",
    "    torch_psnr += psnr[0]\n",
    "    jax_psnr += psnr[1]\n",
    "\n",
    "torch_ssim /= len(torch_pretrained_images)\n",
    "jax_ssim /= len(jax_pretrained_images)\n",
    "torch_psnr /= len(torch_pretrained_images)\n",
    "jax_psnr /= len(jax_pretrained_images)\n",
    "print(f\"SSIM: Torch: {torch_ssim}, Jax: {jax_ssim}\")\n",
    "print(f\"PSNR: Torch: {torch_psnr}, Jax: {jax_psnr}\")"
   ]
  },
  {
   "cell_type": "code",
   "execution_count": 6,
   "metadata": {},
   "outputs": [
    {
     "name": "stdout",
     "output_type": "stream",
     "text": [
      "Finetuned model results\n",
      "SSIM: Torch: 0.846008663771394, Jax: 0.8086479745572868\n",
      "PSNR: Torch: 21.94250476459355, Jax: 20.456905417044503\n"
     ]
    }
   ],
   "source": [
    "print(\"Finetuned model results\")\n",
    "torch_ssim = 0\n",
    "jax_ssim = 0\n",
    "torch_psnr = 0\n",
    "jax_psnr = 0\n",
    "for image in torch_finetuned_images:\n",
    "    torch_image = os.path.join(torch_finetuned, image)\n",
    "    jax_image = os.path.join(jax_finetuned, image)\n",
    "    real_image = os.path.join(dataset_path, image)\n",
    "    ssim, psnr = compare_results(real_image, torch_image, jax_image)\n",
    "    torch_ssim += ssim[0]\n",
    "    jax_ssim += ssim[1]\n",
    "    torch_psnr += psnr[0]\n",
    "    jax_psnr += psnr[1]\n",
    "\n",
    "torch_ssim /= len(torch_finetuned_images)\n",
    "jax_ssim /= len(jax_finetuned_images)\n",
    "torch_psnr /= len(torch_finetuned_images)\n",
    "jax_psnr /= len(jax_finetuned_images)\n",
    "print(f\"SSIM: Torch: {torch_ssim}, Jax: {jax_ssim}\")\n",
    "print(f\"PSNR: Torch: {torch_psnr}, Jax: {jax_psnr}\")"
   ]
  }
 ],
 "metadata": {
  "kernelspec": {
   "display_name": "jaxenv",
   "language": "python",
   "name": "python3"
  },
  "language_info": {
   "codemirror_mode": {
    "name": "ipython",
    "version": 3
   },
   "file_extension": ".py",
   "mimetype": "text/x-python",
   "name": "python",
   "nbconvert_exporter": "python",
   "pygments_lexer": "ipython3",
   "version": "3.10.12"
  }
 },
 "nbformat": 4,
 "nbformat_minor": 2
}
