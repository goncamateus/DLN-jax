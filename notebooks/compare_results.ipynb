{
 "cells": [
  {
   "cell_type": "code",
   "execution_count": 1,
   "metadata": {},
   "outputs": [],
   "source": [
    "import os\n",
    "import cv2\n",
    "import numpy as np\n",
    "\n",
    "from PIL import Image\n",
    "from skimage.metrics import structural_similarity as skimage_ssim\n",
    "from skimage.metrics import peak_signal_noise_ratio as skimage_psnr"
   ]
  },
  {
   "cell_type": "code",
   "execution_count": 2,
   "metadata": {},
   "outputs": [],
   "source": [
    "def angular_error(image_A, image_B):\n",
    "    \"\"\"\n",
    "    Fonte: ChatGPT (https://chat.openai.com/share/866185a9-3fe7-4876-b0eb-1c14d37f5bbf)\n",
    "    O algoritmo foi revisado e faz completo sentido segundo o slide (https://drive.google.com/file/d/1CosA4BcKcUIuwFSlMvSt2RD6edWIyzH5/view?usp=sharing)\n",
    "\n",
    "    Calculate angular error between corresponding pixels in two images.\n",
    "\n",
    "    Parameters:\n",
    "        image_A: array_like\n",
    "            First image (BGR or RGB format).\n",
    "        image_B: array_like\n",
    "            Second image (BGR or RGB format).\n",
    "\n",
    "    Returns:\n",
    "        angular_error: float\n",
    "            Mean angular error between the two images.\n",
    "    \"\"\"\n",
    "    # Convert images to XYZ color space\n",
    "    XYZ_A = cv2.cvtColor(image_A, cv2.COLOR_BGR2XYZ) / 255.0\n",
    "    XYZ_B = cv2.cvtColor(image_B, cv2.COLOR_BGR2XYZ) / 255.0\n",
    "\n",
    "    # Compute norms\n",
    "    norm_A = np.linalg.norm(XYZ_A, axis=-1)\n",
    "    norm_B = np.linalg.norm(XYZ_B, axis=-1)\n",
    "    \n",
    "    # Check for zeros in norms\n",
    "    zero_norms_mask = (norm_A == 0) | (norm_B == 0)\n",
    "\n",
    "    # Compute dot product\n",
    "    dot_product = np.sum(XYZ_A * XYZ_B, axis=-1)\n",
    "\n",
    "    # Compute angular error\n",
    "    cos_theta = np.clip(dot_product / (norm_A * norm_B), -1, 1)  # Clip to handle numerical errors\n",
    "    error = np.arccos(cos_theta)\n",
    "\n",
    "    # Set angular error to zero where division by zero occurred\n",
    "    error[zero_norms_mask] = 0.0\n",
    "\n",
    "    angular_errors = np.degrees(error)\n",
    "\n",
    "    # Compute mean angular error\n",
    "    mean_angular_error = np.mean(angular_errors)\n",
    "\n",
    "    return mean_angular_error"
   ]
  },
  {
   "cell_type": "code",
   "execution_count": 3,
   "metadata": {},
   "outputs": [],
   "source": [
    "def compare_results(real_image, torch_paper_image, torch_mine_image, jax_image):\n",
    "    real_image = Image.open(real_image).convert(\"RGB\")\n",
    "    torch_paper_image = Image.open(torch_paper_image).convert(\"RGB\")\n",
    "    torch_mine_image = Image.open(torch_mine_image).convert(\"RGB\")\n",
    "    jax_image = Image.open(jax_image).convert(\"RGB\")\n",
    "\n",
    "    real_image = np.array(real_image).astype(np.uint8)\n",
    "    torch_paper_image = np.array(torch_paper_image).astype(np.uint8)\n",
    "    torch_mine_image = np.array(torch_mine_image).astype(np.uint8)\n",
    "    jax_image = np.array(jax_image).astype(np.uint8)\n",
    "\n",
    "    torch_ssim = skimage_ssim(real_image, torch_paper_image, channel_axis=2)\n",
    "    torch_mine_ssim = skimage_ssim(real_image, torch_mine_image, channel_axis=2)\n",
    "    jax_ssim = skimage_ssim(real_image, jax_image, channel_axis=2)\n",
    "\n",
    "    torch_psnr = skimage_psnr(real_image, torch_paper_image)\n",
    "    torch_mine_psnr = skimage_psnr(real_image, torch_mine_image)\n",
    "    jax_psnr = skimage_psnr(real_image, jax_image)\n",
    "\n",
    "    torch_angular_error = angular_error(real_image, torch_paper_image)\n",
    "    torch_mine_angular_error = angular_error(real_image, torch_mine_image)\n",
    "    jax_angular_error = angular_error(real_image, jax_image)\n",
    "\n",
    "    return (\n",
    "        (torch_ssim, torch_mine_ssim, jax_ssim),\n",
    "        (torch_psnr, torch_mine_psnr, jax_psnr),\n",
    "        (torch_angular_error, torch_mine_angular_error, jax_angular_error),\n",
    "    )"
   ]
  },
  {
   "cell_type": "markdown",
   "metadata": {},
   "source": [
    "# On synthetic ataset"
   ]
  },
  {
   "cell_type": "code",
   "execution_count": 4,
   "metadata": {},
   "outputs": [],
   "source": [
    "dataset_path = \"../datasets/test/to_report/high/\"\n",
    "torch_mine_finetuned = \"../output/torch/mine/synthetic_results/\"\n",
    "torch_their_finetuned = \"../output/torch/their/synthetic_results/\"\n",
    "jax_finetuned = \"../output/jax/synthetic_results/\""
   ]
  },
  {
   "cell_type": "code",
   "execution_count": 5,
   "metadata": {},
   "outputs": [],
   "source": [
    "torch_mine_finetuned_images = os.listdir(torch_mine_finetuned)\n",
    "torch_their_finetuned_images = os.listdir(torch_their_finetuned)\n",
    "jax_finetuned_images = os.listdir(jax_finetuned)"
   ]
  },
  {
   "cell_type": "code",
   "execution_count": 6,
   "metadata": {},
   "outputs": [
    {
     "name": "stdout",
     "output_type": "stream",
     "text": [
      "Pretrained model results\n"
     ]
    },
    {
     "name": "stderr",
     "output_type": "stream",
     "text": [
      "/tmp/ipykernel_85350/587695608.py:33: RuntimeWarning: invalid value encountered in divide\n",
      "  cos_theta = np.clip(dot_product / (norm_A * norm_B), -1, 1)  # Clip to handle numerical errors\n"
     ]
    },
    {
     "name": "stdout",
     "output_type": "stream",
     "text": [
      "SSIM: Torch Original: 0.8993351620447376, Reproduced: 0.8445246565261463, Jax: 0.9054582661351688\n",
      "PSNR: Torch Original: 25.19262867969908, Reproduced: 21.273988825866766, Jax: 27.77077605088171\n",
      "Angular Error: Torch Original: 2.52325156597444, Reproduced: 3.3811651382092585, Jax: 3.2380003984086487\n"
     ]
    }
   ],
   "source": [
    "print(\"Pretrained model results\")\n",
    "torch_their_ssim = 0\n",
    "torch_mine_ssim = 0\n",
    "jax_ssim = 0\n",
    "\n",
    "torch_their_psnr = 0\n",
    "torch_mine_psnr = 0\n",
    "jax_psnr = 0\n",
    "\n",
    "torch_mine_angular_error = 0\n",
    "torch_their_angular_error = 0\n",
    "jax_angular_error = 0\n",
    "\n",
    "for image in torch_their_finetuned_images:\n",
    "    torch_their_image = os.path.join(torch_their_finetuned, image)\n",
    "    torch_mine_image = os.path.join(torch_mine_finetuned, image)\n",
    "    jax_image = os.path.join(jax_finetuned, image)\n",
    "    real_image = os.path.join(dataset_path, image)\n",
    "    ssim, psnr, ang_err = compare_results(\n",
    "        real_image, torch_their_image, torch_mine_image, jax_image\n",
    "    )\n",
    "    torch_their_ssim += ssim[0]\n",
    "    torch_mine_ssim += ssim[1]\n",
    "    jax_ssim += ssim[2]\n",
    "\n",
    "    torch_their_psnr += psnr[0]\n",
    "    torch_mine_psnr += psnr[1]\n",
    "    jax_psnr += psnr[2]\n",
    "\n",
    "    torch_their_angular_error += ang_err[0]\n",
    "    torch_mine_angular_error += ang_err[1]\n",
    "    jax_angular_error += ang_err[2]\n",
    "\n",
    "torch_their_ssim /= len(torch_their_finetuned_images)\n",
    "torch_mine_ssim /= len(torch_mine_finetuned_images)\n",
    "jax_ssim /= len(jax_finetuned_images)\n",
    "\n",
    "torch_their_psnr /= len(torch_their_finetuned_images)\n",
    "torch_mine_psnr /= len(torch_mine_finetuned_images)\n",
    "jax_psnr /= len(jax_finetuned_images)\n",
    "\n",
    "torch_their_angular_error /= len(torch_their_finetuned_images)\n",
    "torch_mine_angular_error /= len(torch_mine_finetuned_images)\n",
    "jax_angular_error /= len(jax_finetuned_images)\n",
    "\n",
    "print(\n",
    "    f\"SSIM: Torch Original: {torch_their_ssim}, Reproduced: {torch_mine_ssim}, Jax: {jax_ssim}\"\n",
    ")\n",
    "print(\n",
    "    f\"PSNR: Torch Original: {torch_their_psnr}, Reproduced: {torch_mine_psnr}, Jax: {jax_psnr}\"\n",
    ")\n",
    "print(\n",
    "    f\"Angular Error: Torch Original: {torch_their_angular_error}, Reproduced: {torch_mine_angular_error}, Jax: {jax_angular_error}\"\n",
    ")"
   ]
  },
  {
   "cell_type": "markdown",
   "metadata": {},
   "source": [
    "# On LOL dataset"
   ]
  },
  {
   "cell_type": "code",
   "execution_count": 7,
   "metadata": {},
   "outputs": [],
   "source": [
    "dataset_path = \"../datasets/test/LOL/high/\"\n",
    "torch_mine_finetuned = \"../output/torch/mine/finetune_results/\"\n",
    "torch_their_finetuned = \"../output/torch/their/finetune_results/\"\n",
    "jax_finetuned = \"../output/jax/finetune_results/\""
   ]
  },
  {
   "cell_type": "code",
   "execution_count": 8,
   "metadata": {},
   "outputs": [],
   "source": [
    "\n",
    "torch_mine_finetuned_images = os.listdir(torch_mine_finetuned)\n",
    "torch_their_finetuned_images = os.listdir(torch_their_finetuned)\n",
    "jax_finetuned_images = os.listdir(jax_finetuned)"
   ]
  },
  {
   "cell_type": "code",
   "execution_count": 9,
   "metadata": {},
   "outputs": [
    {
     "name": "stdout",
     "output_type": "stream",
     "text": [
      "Finetuned model results\n"
     ]
    },
    {
     "name": "stderr",
     "output_type": "stream",
     "text": [
      "/tmp/ipykernel_85350/587695608.py:33: RuntimeWarning: invalid value encountered in divide\n",
      "  cos_theta = np.clip(dot_product / (norm_A * norm_B), -1, 1)  # Clip to handle numerical errors\n"
     ]
    },
    {
     "name": "stdout",
     "output_type": "stream",
     "text": [
      "SSIM: Torch Original: 0.846008663771394, Reproduced: 0.7959400883183082, Jax: 0.8086479745572868\n",
      "PSNR: Torch Original: 21.94250476459355, Reproduced: 19.533023404713106, Jax: 20.456905417044503\n",
      "Angular Error: Torch Original: 3.672147276143386, Reproduced: 4.757357429316483, Jax: 4.908904760874908\n"
     ]
    }
   ],
   "source": [
    "print(\"Finetuned model results\")\n",
    "torch_their_ssim = 0\n",
    "torch_mine_ssim = 0\n",
    "jax_ssim = 0\n",
    "\n",
    "torch_their_psnr = 0\n",
    "torch_mine_psnr = 0\n",
    "jax_psnr = 0\n",
    "\n",
    "torch_mine_angular_error = 0\n",
    "torch_their_angular_error = 0\n",
    "jax_angular_error = 0\n",
    "\n",
    "for image in torch_their_finetuned_images:\n",
    "    torch_their_image = os.path.join(torch_their_finetuned, image)\n",
    "    torch_mine_image = os.path.join(torch_mine_finetuned, image)\n",
    "    jax_image = os.path.join(jax_finetuned, image)\n",
    "    real_image = os.path.join(dataset_path, image)\n",
    "    ssim, psnr, ang_err = compare_results(\n",
    "        real_image, torch_their_image, torch_mine_image, jax_image\n",
    "    )\n",
    "    torch_their_ssim += ssim[0]\n",
    "    torch_mine_ssim += ssim[1]\n",
    "    jax_ssim += ssim[2]\n",
    "\n",
    "    torch_their_psnr += psnr[0]\n",
    "    torch_mine_psnr += psnr[1]\n",
    "    jax_psnr += psnr[2]\n",
    "\n",
    "    torch_their_angular_error += ang_err[0]\n",
    "    torch_mine_angular_error += ang_err[1]\n",
    "    jax_angular_error += ang_err[2]\n",
    "\n",
    "torch_their_ssim /= len(torch_their_finetuned_images)\n",
    "torch_mine_ssim /= len(torch_mine_finetuned_images)\n",
    "jax_ssim /= len(jax_finetuned_images)\n",
    "\n",
    "torch_their_psnr /= len(torch_their_finetuned_images)\n",
    "torch_mine_psnr /= len(torch_mine_finetuned_images)\n",
    "jax_psnr /= len(jax_finetuned_images)\n",
    "\n",
    "torch_their_angular_error /= len(torch_their_finetuned_images)\n",
    "torch_mine_angular_error /= len(torch_mine_finetuned_images)\n",
    "jax_angular_error /= len(jax_finetuned_images)\n",
    "\n",
    "print(\n",
    "    f\"SSIM: Torch Original: {torch_their_ssim}, Reproduced: {torch_mine_ssim}, Jax: {jax_ssim}\"\n",
    ")\n",
    "print(\n",
    "    f\"PSNR: Torch Original: {torch_their_psnr}, Reproduced: {torch_mine_psnr}, Jax: {jax_psnr}\"\n",
    ")\n",
    "print(\n",
    "    f\"Angular Error: Torch Original: {torch_their_angular_error}, Reproduced: {torch_mine_angular_error}, Jax: {jax_angular_error}\"\n",
    ")"
   ]
  }
 ],
 "metadata": {
  "kernelspec": {
   "display_name": "jaxenv",
   "language": "python",
   "name": "python3"
  },
  "language_info": {
   "codemirror_mode": {
    "name": "ipython",
    "version": 3
   },
   "file_extension": ".py",
   "mimetype": "text/x-python",
   "name": "python",
   "nbconvert_exporter": "python",
   "pygments_lexer": "ipython3",
   "version": "3.10.12"
  }
 },
 "nbformat": 4,
 "nbformat_minor": 2
}
