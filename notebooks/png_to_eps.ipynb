{
 "cells": [
  {
   "cell_type": "code",
   "execution_count": 1,
   "metadata": {},
   "outputs": [],
   "source": [
    "import os\n",
    "from PIL import Image\n",
    "import ghostscript\n",
    "               \n",
    "def png_to_eps(input_path, output_path):\n",
    "    # Open the input image\n",
    "    img = Image.open(input_path)\n",
    "    # Convert the image to RGB mode if it's in RGBA\n",
    "    if img.mode == 'RGBA':\n",
    "        img = img.convert('RGB')\n",
    "    # Save as EPS format\n",
    "    img.save(output_path, 'EPS')\n",
    "\n",
    "def convert_all_png_to_eps(root_folder):\n",
    "    for subdir, _, files in os.walk(root_folder):\n",
    "        for file in files:\n",
    "            if file.lower().endswith('.png'):\n",
    "                input_path = os.path.join(subdir, file)\n",
    "                output_path = os.path.splitext(input_path)[0] + '.eps'\n",
    "                png_to_eps(input_path, output_path)\n",
    "                print(f\"Converted: {input_path} to {output_path}\")\n"
   ]
  },
  {
   "cell_type": "code",
   "execution_count": 2,
   "metadata": {},
   "outputs": [
    {
     "name": "stdout",
     "output_type": "stream",
     "text": [
      "Converted: results/lol/original/748.png to results/lol/original/748.eps\n",
      "Converted: results/lol/original/665.png to results/lol/original/665.eps\n",
      "Converted: results/lol/original/1.png to results/lol/original/1.eps\n",
      "Converted: results/lol/low/748.png to results/lol/low/748.eps\n",
      "Converted: results/lol/low/665.png to results/lol/low/665.eps\n",
      "Converted: results/lol/low/1.png to results/lol/low/1.eps\n",
      "Converted: results/lol/high/748.png to results/lol/high/748.eps\n",
      "Converted: results/lol/high/665.png to results/lol/high/665.eps\n",
      "Converted: results/lol/high/1.png to results/lol/high/1.eps\n",
      "Converted: results/lol/jax/748.png to results/lol/jax/748.eps\n",
      "Converted: results/lol/jax/665.png to results/lol/jax/665.eps\n",
      "Converted: results/lol/jax/1.png to results/lol/jax/1.eps\n",
      "Converted: results/lol/retrained/748.png to results/lol/retrained/748.eps\n",
      "Converted: results/lol/retrained/665.png to results/lol/retrained/665.eps\n",
      "Converted: results/lol/retrained/1.png to results/lol/retrained/1.eps\n",
      "Converted: results/voc/original/3.png to results/voc/original/3.eps\n",
      "Converted: results/voc/original/12.png to results/voc/original/12.eps\n",
      "Converted: results/voc/original/0.png to results/voc/original/0.eps\n",
      "Converted: results/voc/low/3.png to results/voc/low/3.eps\n",
      "Converted: results/voc/low/12.png to results/voc/low/12.eps\n",
      "Converted: results/voc/low/0.png to results/voc/low/0.eps\n",
      "Converted: results/voc/high/3.png to results/voc/high/3.eps\n",
      "Converted: results/voc/high/12.png to results/voc/high/12.eps\n",
      "Converted: results/voc/high/0.png to results/voc/high/0.eps\n",
      "Converted: results/voc/jax/3.png to results/voc/jax/3.eps\n",
      "Converted: results/voc/jax/12.png to results/voc/jax/12.eps\n",
      "Converted: results/voc/jax/0.png to results/voc/jax/0.eps\n",
      "Converted: results/voc/retrained/3.png to results/voc/retrained/3.eps\n",
      "Converted: results/voc/retrained/12.png to results/voc/retrained/12.eps\n",
      "Converted: results/voc/retrained/0.png to results/voc/retrained/0.eps\n"
     ]
    }
   ],
   "source": [
    "convert_all_png_to_eps(\"results\")\n"
   ]
  }
 ],
 "metadata": {
  "kernelspec": {
   "display_name": ".venv",
   "language": "python",
   "name": "python3"
  },
  "language_info": {
   "codemirror_mode": {
    "name": "ipython",
    "version": 3
   },
   "file_extension": ".py",
   "mimetype": "text/x-python",
   "name": "python",
   "nbconvert_exporter": "python",
   "pygments_lexer": "ipython3",
   "version": "3.10.12"
  }
 },
 "nbformat": 4,
 "nbformat_minor": 2
}
