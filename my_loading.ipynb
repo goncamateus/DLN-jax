{
 "cells": [
  {
   "cell_type": "code",
   "execution_count": null,
   "metadata": {
    "notebookRunGroups": {
     "groupValue": "1"
    }
   },
   "outputs": [],
   "source": [
    "import numpy as np\n",
    "import jax\n",
    "import torch\n",
    "import jax.numpy as jnp\n",
    "\n",
    "from dln.data import get_Low_light_training_set"
   ]
  },
  {
   "cell_type": "code",
   "execution_count": null,
   "metadata": {},
   "outputs": [],
   "source": [
    "train_set = get_Low_light_training_set(\n",
    "        upscale_factor=1, patch_size=128, data_augmentation=True\n",
    "    )"
   ]
  },
  {
   "cell_type": "code",
   "execution_count": null,
   "metadata": {},
   "outputs": [],
   "source": [
    "def numpy_data_loader(dataset, batch_size, shuffle=True):\n",
    "    indices = np.arange(len(dataset))\n",
    "    if shuffle:\n",
    "        np.random.shuffle(indices)\n",
    "    for start_idx in range(0, len(dataset) - batch_size + 1, batch_size):\n",
    "        excerpt = indices[start_idx : start_idx + batch_size]\n",
    "        batch = [dataset[i] for i in excerpt]\n",
    "        low_light, normal_light = zip(*batch)\n",
    "        jaxed_low_light = jnp.array(low_light)\n",
    "        jaxed_normal_light = jnp.array(normal_light)\n",
    "        yield jnp.transpose(jaxed_low_light, (0, 2, 3, 1)), jnp.transpose(\n",
    "            jaxed_normal_light, (0, 2, 3, 1)\n",
    "        )"
   ]
  },
  {
   "cell_type": "code",
   "execution_count": null,
   "metadata": {},
   "outputs": [],
   "source": [
    "for iteration, batch in enumerate(numpy_data_loader(train_set, 32), 1):\n",
    "    print(\"iteration\", iteration)\n",
    "    LL_t, NL_t = batch\n",
    "    print(\"Image Shapes\")\n",
    "    print(LL_t.shape, NL_t.shape)\n"
   ]
  },
  {
   "cell_type": "code",
   "execution_count": null,
   "metadata": {},
   "outputs": [],
   "source": []
  }
 ],
 "metadata": {
  "kernelspec": {
   "display_name": "jaxenv",
   "language": "python",
   "name": "python3"
  },
  "language_info": {
   "codemirror_mode": {
    "name": "ipython",
    "version": 3
   },
   "file_extension": ".py",
   "mimetype": "text/x-python",
   "name": "python",
   "nbconvert_exporter": "python",
   "pygments_lexer": "ipython3",
   "version": "3.10.12"
  }
 },
 "nbformat": 4,
 "nbformat_minor": 2
}
