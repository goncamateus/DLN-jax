{
 "cells": [
  {
   "cell_type": "code",
   "execution_count": 1,
   "metadata": {},
   "outputs": [],
   "source": [
    "import jax\n",
    "import jax.numpy as jnp\n",
    "\n",
    "from dm_pix import ssim\n",
    "from dm_pix import psnr\n",
    "from flax.training import train_state\n",
    "\n",
    "from dln.jax_dln import DLN\n",
    "from dln.jax_data_loader import jnp_data_loader\n",
    "from dln.jax_tv import total_variation"
   ]
  },
  {
   "cell_type": "code",
   "execution_count": 2,
   "metadata": {},
   "outputs": [],
   "source": [
    "@jax.jit\n",
    "def apply_model(state, ll, nl):\n",
    "\n",
    "    def loss_fn(params):\n",
    "        nl_pred = state.apply_fn({\"params\": params}, ll)\n",
    "        ssim_loss = 1 - ssim(nl, nl_pred)\n",
    "        tv_loss = total_variation(nl_pred)\n",
    "        loss = ssim_loss + 0.001 * tv_loss\n",
    "        return loss, nl_pred\n",
    "\n",
    "    grad_fn = jax.value_and_grad(loss_fn, has_aux=True)\n",
    "    (loss, nl_pred), grads = grad_fn(state.params)\n",
    "    res_psnr = psnr(nl, nl_pred)\n",
    "    return grads, loss, res_psnr\n",
    "\n",
    "\n",
    "@jax.jit\n",
    "def update_model(state, grads):\n",
    "    return state.apply_gradients(grads=grads)"
   ]
  },
  {
   "cell_type": "code",
   "execution_count": 3,
   "metadata": {},
   "outputs": [],
   "source": [
    "def train_epoch(state, data_loader):\n",
    "    for ll, nl in data_loader:\n",
    "        grads, loss, res_psnr = apply_model(state, ll, nl)\n",
    "        state = update_model(state, grads)\n",
    "    return state, loss, res_psnr"
   ]
  },
  {
   "cell_type": "code",
   "execution_count": null,
   "metadata": {},
   "outputs": [],
   "source": [
    "train_epoch"
   ]
  }
 ],
 "metadata": {
  "kernelspec": {
   "display_name": "jaxenv",
   "language": "python",
   "name": "python3"
  },
  "language_info": {
   "codemirror_mode": {
    "name": "ipython",
    "version": 3
   },
   "file_extension": ".py",
   "mimetype": "text/x-python",
   "name": "python",
   "nbconvert_exporter": "python",
   "pygments_lexer": "ipython3",
   "version": "3.10.12"
  }
 },
 "nbformat": 4,
 "nbformat_minor": 2
}
